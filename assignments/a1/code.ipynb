{
 "cells": [
  {
   "cell_type": "markdown",
   "id": "85680180",
   "metadata": {},
   "source": [
    "Load in datasets and add them to a graph. Add all triples to the knowledge graph as the these files reflect partitions from experiments in [COMET-ATOMIC 2020: On Symbolic and Neural Commonsense Knowledge Graphs](https://arxiv.org/pdf/2010.05953.pdf) (Hwang et al., 2021), however we are interested in the full ATOMIC 2020 knowledge base without partitions for now."
   ]
  },
  {
   "cell_type": "code",
   "execution_count": 22,
   "id": "e3717ec9",
   "metadata": {},
   "outputs": [],
   "source": [
    "import csv\n",
    "from collections import defaultdict\n",
    "\n",
    "heads = defaultdict(list) # a dictionary with a head (string) as the key and a list of (relation, tail) tuples as the value (graph adjacency list)\n",
    "tails = defaultdict(list) # same as above, but w/ tail as the key and a list of (relation, head) tuples as the value; all edge directions are thus reversed\n",
    "\n",
    "train_file = open('data/train.tsv')\n",
    "train = csv.reader(train_file, delimiter='\\t')\n",
    "for row in train:\n",
    "    heads[row[0]].append((row[1], row[2]))\n",
    "    tails[row[2]].append((row[1], row[0]))\n",
    "\n",
    "dev_file = open('data/dev.tsv')\n",
    "dev = csv.reader(dev_file, delimiter='\\t')\n",
    "for row in dev:\n",
    "    heads[row[0]].append((row[1], row[2]))\n",
    "    tails[row[2]].append((row[1], row[0]))\n",
    "\n",
    "test_file = open('data/test.tsv')\n",
    "test = csv.reader(test_file, delimiter='\\t')\n",
    "for row in dev:\n",
    "    heads[row[0]].append((row[1], row[2]))\n",
    "    tails[row[2]].append((row[1], row[0]))\n",
    "\n"
   ]
  },
  {
   "cell_type": "markdown",
   "id": "ded0c5bc",
   "metadata": {},
   "source": [
    "We'll use a graph structure based on adjacency lists since I expect any knowledge base to be a relatively sparse graph (most nodes will only have edges to a small fraction of total nodes)"
   ]
  },
  {
   "cell_type": "markdown",
   "id": "7f75afb9",
   "metadata": {},
   "source": [
    "Some notes about the knowledge base: ATOMIC 2020 represents edges as unidirectional from the head to the tail. For our convencience, and because it could be useful for tasks, we give each node two adjacency lists. The heads adjacency list has edges in the direction that they are in the knowledge base, and the tails adjacency list has edges in the reversed direction for convenient accessing/lookups.\n",
    "\n",
    "Though symmetric, reciprocal relationships are possible, this should not be as common as ATOMIC 2020 (unlike knowledge bases like ConceptNet) deliberately contains more information about cause-effect, if-then information. It is more focused on inferential knowledge than taxonomic knowledge. Let's print out a selection of five triplets from ATOMIC 2020 to show this."
   ]
  },
  {
   "cell_type": "code",
   "execution_count": 23,
   "id": "1a47cc65",
   "metadata": {},
   "outputs": [
    {
     "name": "stdout",
     "output_type": "stream",
     "text": [
      "PersonX comes ___ that night oEffect none\n",
      "PersonX comes ___ to die oEffect none\n",
      "PersonX comes ___ to dinner oEffect none\n",
      "PersonX comes face to face oEffect hug\n",
      "PersonX comes in handy oEffect get help\n"
     ]
    }
   ],
   "source": [
    "import random\n",
    "\n",
    "triples_list = list(heads.items())\n",
    "len_triples = len(triples_list)\n",
    "random_index = random.randrange(len_triples-5)\n",
    "random_selection = triples_list[random_index:random_index+5] # get five heads (five nodes)\n",
    "for selection in random_selection:\n",
    "    head = selection[0]\n",
    "    relationship = selection[1][0][0]\n",
    "    tail = selection[1][0][1]\n",
    "    print(head + ' ' + relationship + ' ' + tail) # print the head and just one predicate (relationship + tail)\n"
   ]
  },
  {
   "cell_type": "markdown",
   "id": "b92188ea",
   "metadata": {},
   "source": [
    "For our shortest path function, we'll use a simple BFS search. There are no weights for ATOMIC 2020 allowing us to use this simple solution. \n",
    "\n",
    "If a more performant solution were needed, it would be interesting seeing if heuristics from using word embeddings + maybe a little depth would increase average performance. Although in the aforementioned paper about COMET-ATOMIC, (as far as I understand; need to ask) fast searches are not required as the knowledge bases are used to tune pretrained LM's. Computation time is therefore not noticeably increased when making a determination of a response to a question when the model is deployed."
   ]
  },
  {
   "cell_type": "code",
   "execution_count": 25,
   "id": "eabb77b1",
   "metadata": {},
   "outputs": [
    {
     "name": "stdout",
     "output_type": "stream",
     "text": [
      "No such path exists between PersonX washes everything and gibberish sfdjkhlghslkdfg\n",
      "No such path exists between gibberish sfkjhafadf and gibberish sfdjkhlghslkdfg\n",
      "happiness AtLocation opera AtLocation theatre ObjectUse events ObjectUse have fun xNeed go for drive xNeed buy car xNeed go to dealership\n",
      "happiness AtLocation opera AtLocation theatre ObjectUse events ObjectUse have fun xNeed person Desires dog ObjectUse love\n",
      "dog Desires food\n",
      "love xWant entertain HasSubEvent have fun xNeed person Desires dog\n",
      "PersonX washes everything isAfter PersonX cleans the dishes HinderedBy they ran out of soap\n",
      "cook curry HasSubEvent go to store xNeed drive car HasSubEvent have fun xNeed person NotDesires give up\n"
     ]
    }
   ],
   "source": [
    "from collections import deque\n",
    "\n",
    "def find_shortest_path(starting_head, final_tail):\n",
    "    nodes_to_visit = deque([starting_head])\n",
    "    paths_for_nodes = deque([starting_head]) # string with text of nodes previously visited\n",
    "    nodes_visited = set() # for cycle detection\n",
    "    while nodes_to_visit:\n",
    "        current_node = nodes_to_visit[0]\n",
    "        for predicate in heads[current_node]:\n",
    "            relationship, tail = predicate\n",
    "            if tail == final_tail:\n",
    "                return paths_for_nodes[0] + ' ' + relationship + ' ' + tail # found tail\n",
    "            elif tail not in nodes_visited:\n",
    "                nodes_to_visit.append(tail)\n",
    "                paths_for_nodes.append(paths_for_nodes[0] + ' ' + relationship + ' ' + tail)\n",
    "        nodes_to_visit.popleft()\n",
    "        paths_for_nodes.popleft()\n",
    "        nodes_visited.add(current_node)\n",
    "    return 'No such path exists between ' + starting_head + ' and ' + final_tail\n",
    "\n",
    "# there is no path\n",
    "print(find_shortest_path('PersonX washes everything', 'gibberish sfdjkhlghslkdfg'))\n",
    "print(find_shortest_path('gibberish sfkjhafadf', 'gibberish sfdjkhlghslkdfg'))\n",
    "\n",
    "# note that no weights with non-randomized BFS can some \"catch-all\" nodes getting high traffic; this may signify a more tenuous connection\n",
    "print(find_shortest_path('happiness', 'go to dealership'))\n",
    "print(find_shortest_path('happiness', 'love'))\n",
    "\n",
    "# direct connection\n",
    "print(find_shortest_path('dog', 'food'))\n",
    "\n",
    "print(find_shortest_path('love', 'dog'))\n",
    "print(find_shortest_path('PersonX washes everything', 'they ran out of soap'))\n",
    "print(find_shortest_path('cook curry', 'give up'))"
   ]
  }
 ],
 "metadata": {
  "kernelspec": {
   "display_name": "Python 3 (ipykernel)",
   "language": "python",
   "name": "python3"
  },
  "language_info": {
   "codemirror_mode": {
    "name": "ipython",
    "version": 3
   },
   "file_extension": ".py",
   "mimetype": "text/x-python",
   "name": "python",
   "nbconvert_exporter": "python",
   "pygments_lexer": "ipython3",
   "version": "3.9.7"
  }
 },
 "nbformat": 4,
 "nbformat_minor": 5
}
